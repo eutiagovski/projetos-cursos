{
  "cells": [
    {
      "cell_type": "markdown",
      "metadata": {
        "id": "view-in-github",
        "colab_type": "text"
      },
      "source": [
        "<a href=\"https://colab.research.google.com/github/eutiagovski/projetos-cursos/blob/main/datascience-mentorama/12_Arvores_Ensembles_exercicio.ipynb\" target=\"_parent\"><img src=\"https://colab.research.google.com/assets/colab-badge.svg\" alt=\"Open In Colab\"/></a>"
      ]
    },
    {
      "cell_type": "markdown",
      "metadata": {
        "id": "6qnAKAp2DyOH"
      },
      "source": [
        "### Modelos baseados em árvores\n",
        "\n",
        "<br>\n",
        "\n",
        "Ao longo do módulo, discutimos bastante as árvores de decisão, bem como ensemble de árvores, como Random Forest e algoritmos do tipo boosting.\n",
        "\n",
        "Esses __ensembles acabam tendo muitos hiperparâmetros;__ escolhe-los de forma manual acaba sendo muito custoso e tedioso. \n",
        "\n",
        "Neste exercício, vamos discutir a respeito da metolodia __grid-search__, que otimiza essa busca de hiperparâmetros.\n",
        "\n",
        "Considere o dataset abaixo (basta executar as células):"
      ]
    },
    {
      "cell_type": "code",
      "execution_count": 20,
      "metadata": {
        "id": "ngsaREfIDyOL"
      },
      "outputs": [],
      "source": [
        "import pandas as pd\n",
        "import numpy as np\n",
        "import matplotlib.pyplot as plt"
      ]
    },
    {
      "cell_type": "code",
      "execution_count": 21,
      "metadata": {
        "id": "knOB45PJDyOP"
      },
      "outputs": [],
      "source": [
        "from sklearn.datasets import load_diabetes\n",
        "from sklearn.model_selection import train_test_split"
      ]
    },
    {
      "cell_type": "code",
      "execution_count": 22,
      "metadata": {
        "colab": {
          "base_uri": "https://localhost:8080/"
        },
        "id": "zbNUCXj5DyOR",
        "outputId": "50e4c33f-8401-44af-af84-4f6e7e272dbe"
      },
      "outputs": [
        {
          "output_type": "stream",
          "name": "stdout",
          "text": [
            "(331, 10) (111, 10) (331,) (111,)\n"
          ]
        }
      ],
      "source": [
        "#problema de regressão\n",
        "\n",
        "X, y = load_diabetes().data, load_diabetes().target\n",
        "Xtrain, Xtest, ytrain, ytest = train_test_split(X, y, test_size = 0.25, random_state = 42)\n",
        "print(Xtrain.shape, Xtest.shape, ytrain.shape, ytest.shape)"
      ]
    },
    {
      "cell_type": "markdown",
      "metadata": {
        "id": "jc45FczXDyOT"
      },
      "source": [
        "Imagine que queremos testar - usando cross-validation - várias instâncias de Random Forests: com 10 árvores, com 100 árvores, com 1000 árvores, com profundidade máxima 1, 5, 10. \n",
        "\n",
        "Como podemos proceder? O código abaixo exemplifica um jeito:"
      ]
    },
    {
      "cell_type": "code",
      "execution_count": 23,
      "metadata": {
        "colab": {
          "base_uri": "https://localhost:8080/"
        },
        "id": "JnTVo3fnDyOU",
        "outputId": "a29fcbcc-8677-41c9-b2a8-f70891e55acb"
      },
      "outputs": [
        {
          "output_type": "stream",
          "name": "stdout",
          "text": [
            "estimators:  10  prof:  1  | R2 mean / std:  0.3355481330416495  /  0.040349941345889206\n",
            "estimators:  10  prof:  5  | R2 mean / std:  0.41989776651558436  /  0.06280878775898815\n",
            "estimators:  10  prof:  10  | R2 mean / std:  0.3964704372108536  /  0.03389580978621192\n",
            "estimators:  100  prof:  1  | R2 mean / std:  0.33267819044403446  /  0.03494111033741746\n",
            "estimators:  100  prof:  5  | R2 mean / std:  0.43310775428686094  /  0.046999779699282596\n",
            "estimators:  100  prof:  10  | R2 mean / std:  0.42157375976689887  /  0.036353504781212784\n",
            "estimators:  100  prof:  1  | R2 mean / std:  0.33059773480951454  /  0.03955872355594707\n",
            "estimators:  100  prof:  5  | R2 mean / std:  0.4158624516163554  /  0.05151959439289268\n",
            "estimators:  100  prof:  10  | R2 mean / std:  0.41999230151383465  /  0.03657050497935747\n"
          ]
        }
      ],
      "source": [
        "from sklearn.ensemble import RandomForestRegressor\n",
        "from sklearn.model_selection import cross_val_score\n",
        "\n",
        "for n_est in [10,100,100]:\n",
        "    for prof in [1,5,10]:\n",
        "        rf = RandomForestRegressor(n_estimators=n_est, max_depth=prof)\n",
        "        cvres = cross_val_score(estimator=rf, X = Xtrain, y = ytrain, cv = 3, scoring='r2')\n",
        "        print(\"estimators: \", n_est, \" prof: \", prof, \" | R2 mean / std: \", cvres.mean(), ' / ', cvres.std())"
      ]
    },
    {
      "cell_type": "markdown",
      "metadata": {
        "id": "Nkt4rrG-DyOX"
      },
      "source": [
        "Podemos, com algum trabalho, escolher o melhor modelo.\n",
        "\n",
        "Se quisermos testar mais parâmetros, podemos aumentar nosso loop... mais isso vai ficando cada vez mais complicado.\n",
        "\n",
        "A proposta do __grid-search__ é justamente fazer isso de forma mais automática!\n",
        "\n",
        "Podemos importar a função GridSearchCV do módulo model_selection do sklearn e usá-la para isso. \n",
        "Na prática, precisamos definir um __estimador base__ para o grid. Além disso, precisamos definir um __dicionário de parâmetros__ a ser testado. Ainda, definiremos a quantidade de folds para cross-validation e qual a métrica de performance que queremos otimizar:"
      ]
    },
    {
      "cell_type": "code",
      "execution_count": 24,
      "metadata": {
        "id": "5VCibHNWDyOY"
      },
      "outputs": [],
      "source": [
        "#importando a função\n",
        "from sklearn.model_selection import GridSearchCV"
      ]
    },
    {
      "cell_type": "code",
      "execution_count": 25,
      "metadata": {
        "id": "RXsGUB-xDyOZ"
      },
      "outputs": [],
      "source": [
        "#definindo o estimador base\n",
        "estimador_base = RandomForestRegressor()\n",
        "\n",
        "#definindo o dicionario de parâmetros do modelo\n",
        "params_RF = {\"n_estimators\":[10,1000], \"max_depth\":[2,10]}"
      ]
    },
    {
      "cell_type": "code",
      "execution_count": 26,
      "metadata": {
        "colab": {
          "base_uri": "https://localhost:8080/"
        },
        "id": "0FbwUrMFDyOb",
        "outputId": "88157aa3-1e6e-4608-e0d5-176116ff5233"
      },
      "outputs": [
        {
          "output_type": "execute_result",
          "data": {
            "text/plain": [
              "GridSearchCV(cv=3, estimator=RandomForestRegressor(),\n",
              "             param_grid={'max_depth': [2, 10], 'n_estimators': [10, 1000]},\n",
              "             scoring='r2')"
            ]
          },
          "metadata": {},
          "execution_count": 26
        }
      ],
      "source": [
        "grid = GridSearchCV(estimator = estimador_base, \n",
        "                    param_grid = params_RF, \n",
        "                    scoring = 'r2', \n",
        "                    cv = 3)\n",
        "\n",
        "grid"
      ]
    },
    {
      "cell_type": "code",
      "execution_count": 27,
      "metadata": {
        "colab": {
          "base_uri": "https://localhost:8080/"
        },
        "id": "_dGzkavODyOd",
        "outputId": "2a154351-9f3f-44b4-de29-a1e15f188bab"
      },
      "outputs": [
        {
          "output_type": "execute_result",
          "data": {
            "text/plain": [
              "GridSearchCV(cv=3, estimator=RandomForestRegressor(),\n",
              "             param_grid={'max_depth': [2, 10], 'n_estimators': [10, 1000]},\n",
              "             scoring='r2')"
            ]
          },
          "metadata": {},
          "execution_count": 27
        }
      ],
      "source": [
        "#treinando os modelos no grid\n",
        "grid.fit(Xtrain, ytrain)"
      ]
    },
    {
      "cell_type": "markdown",
      "metadata": {
        "id": "-nveljH1DyOf"
      },
      "source": [
        "O objeto \"grid\", após o treinamento acima, conterá várias informações muito relevantes. \n",
        "\n",
        "__1- \"best_params_\":__ retorna os melhores parâmetros, de acordo com a métrica de performance avaliada na cross-validation;\n",
        "\n",
        "__1- \"best_score_\":__ retorna o melhor score - métrica de performance - nos dados de validação;\n",
        "\n",
        "__1- \"best_estimator_\":__ retorna o melhor modelo, já treinado;\n",
        "\n",
        "__1- \"cv_results_\":__ retorna uma visão geral dos resultados."
      ]
    },
    {
      "cell_type": "code",
      "execution_count": 28,
      "metadata": {
        "colab": {
          "base_uri": "https://localhost:8080/"
        },
        "id": "BDrRyA5TDyOg",
        "outputId": "c33f32db-c5a0-4f64-efe9-4a54ae2a1b14"
      },
      "outputs": [
        {
          "output_type": "execute_result",
          "data": {
            "text/plain": [
              "{'max_depth': 10, 'n_estimators': 1000}"
            ]
          },
          "metadata": {},
          "execution_count": 28
        }
      ],
      "source": [
        "grid.best_params_"
      ]
    },
    {
      "cell_type": "code",
      "execution_count": 29,
      "metadata": {
        "colab": {
          "base_uri": "https://localhost:8080/"
        },
        "id": "X1sJ6ocnDyOh",
        "outputId": "c09b2d0c-d21c-4b62-a9b1-d0c12a44d5b4"
      },
      "outputs": [
        {
          "output_type": "execute_result",
          "data": {
            "text/plain": [
              "0.4214073288035971"
            ]
          },
          "metadata": {},
          "execution_count": 29
        }
      ],
      "source": [
        "grid.best_score_"
      ]
    },
    {
      "cell_type": "code",
      "execution_count": 30,
      "metadata": {
        "colab": {
          "base_uri": "https://localhost:8080/"
        },
        "id": "VL0a5pY0DyOi",
        "outputId": "68711db1-b347-4bdd-9f89-86a5b95eb809"
      },
      "outputs": [
        {
          "output_type": "execute_result",
          "data": {
            "text/plain": [
              "RandomForestRegressor(max_depth=10, n_estimators=1000)"
            ]
          },
          "metadata": {},
          "execution_count": 30
        }
      ],
      "source": [
        "grid.best_estimator_"
      ]
    },
    {
      "cell_type": "code",
      "execution_count": 31,
      "metadata": {
        "colab": {
          "base_uri": "https://localhost:8080/"
        },
        "id": "ytrePXaTDyOj",
        "outputId": "4310aa0c-bb1d-4727-e0aa-60893a32598a"
      },
      "outputs": [
        {
          "output_type": "execute_result",
          "data": {
            "text/plain": [
              "{'mean_fit_time': array([0.01508888, 1.32203134, 0.01897724, 1.86235547]),\n",
              " 'mean_score_time': array([0.00156816, 0.08508396, 0.00172544, 0.08978383]),\n",
              " 'mean_test_score': array([0.38550617, 0.4078309 , 0.37735677, 0.42140733]),\n",
              " 'param_max_depth': masked_array(data=[2, 2, 10, 10],\n",
              "              mask=[False, False, False, False],\n",
              "        fill_value='?',\n",
              "             dtype=object),\n",
              " 'param_n_estimators': masked_array(data=[10, 1000, 10, 1000],\n",
              "              mask=[False, False, False, False],\n",
              "        fill_value='?',\n",
              "             dtype=object),\n",
              " 'params': [{'max_depth': 2, 'n_estimators': 10},\n",
              "  {'max_depth': 2, 'n_estimators': 1000},\n",
              "  {'max_depth': 10, 'n_estimators': 10},\n",
              "  {'max_depth': 10, 'n_estimators': 1000}],\n",
              " 'rank_test_score': array([3, 2, 4, 1], dtype=int32),\n",
              " 'split0_test_score': array([0.29500008, 0.34795264, 0.27252484, 0.3677299 ]),\n",
              " 'split1_test_score': array([0.42292768, 0.44584111, 0.44681913, 0.45204133]),\n",
              " 'split2_test_score': array([0.43859073, 0.42969897, 0.41272634, 0.44445075]),\n",
              " 'std_fit_time': array([0.00239795, 0.007933  , 0.00017925, 0.01512274]),\n",
              " 'std_score_time': array([4.22821008e-05, 7.79636916e-03, 6.54964376e-06, 4.72396224e-03]),\n",
              " 'std_test_score': array([0.06431613, 0.04285011, 0.07542272, 0.03808196])}"
            ]
          },
          "metadata": {},
          "execution_count": 31
        }
      ],
      "source": [
        "grid.cv_results_"
      ]
    },
    {
      "cell_type": "markdown",
      "metadata": {
        "id": "rbDQnJu7DyOk"
      },
      "source": [
        "__Exercício 1:__ Utilizando o dataset abaixo, faça um grid_search com KNN's, Random Forests e GradientBoostings e retorne o melhor modelo de cada tipo.\n",
        "\n",
        "__Obs.:__ Lembre-se de fazer um pré-processamento nos dados!"
      ]
    },
    {
      "cell_type": "code",
      "execution_count": 34,
      "metadata": {
        "colab": {
          "base_uri": "https://localhost:8080/",
          "height": 224
        },
        "id": "O0Fyx4hPDyOk",
        "outputId": "0bbcb37a-fabb-4503-9cc1-773eece2f882"
      },
      "outputs": [
        {
          "output_type": "stream",
          "name": "stdout",
          "text": [
            "(20640, 10)\n"
          ]
        },
        {
          "output_type": "execute_result",
          "data": {
            "text/html": [
              "\n",
              "  <div id=\"df-51eabdc5-8a9e-420b-b64f-77ed00d0bd1a\">\n",
              "    <div class=\"colab-df-container\">\n",
              "      <div>\n",
              "<style scoped>\n",
              "    .dataframe tbody tr th:only-of-type {\n",
              "        vertical-align: middle;\n",
              "    }\n",
              "\n",
              "    .dataframe tbody tr th {\n",
              "        vertical-align: top;\n",
              "    }\n",
              "\n",
              "    .dataframe thead th {\n",
              "        text-align: right;\n",
              "    }\n",
              "</style>\n",
              "<table border=\"1\" class=\"dataframe\">\n",
              "  <thead>\n",
              "    <tr style=\"text-align: right;\">\n",
              "      <th></th>\n",
              "      <th>longitude</th>\n",
              "      <th>latitude</th>\n",
              "      <th>idade_mediana_das_casas</th>\n",
              "      <th>total_comodos</th>\n",
              "      <th>total_quartos</th>\n",
              "      <th>populacao</th>\n",
              "      <th>familias</th>\n",
              "      <th>salario_mediano</th>\n",
              "      <th>preco_mediano_das_casas</th>\n",
              "      <th>proximidade_ao_mar</th>\n",
              "    </tr>\n",
              "  </thead>\n",
              "  <tbody>\n",
              "    <tr>\n",
              "      <th>0</th>\n",
              "      <td>-122.23</td>\n",
              "      <td>37.88</td>\n",
              "      <td>41.0</td>\n",
              "      <td>880.0</td>\n",
              "      <td>129.0</td>\n",
              "      <td>322.0</td>\n",
              "      <td>126.0</td>\n",
              "      <td>8.3252</td>\n",
              "      <td>452600.0</td>\n",
              "      <td>PERTO DA BAÍA</td>\n",
              "    </tr>\n",
              "    <tr>\n",
              "      <th>1</th>\n",
              "      <td>-122.22</td>\n",
              "      <td>37.86</td>\n",
              "      <td>21.0</td>\n",
              "      <td>7099.0</td>\n",
              "      <td>1106.0</td>\n",
              "      <td>2401.0</td>\n",
              "      <td>1138.0</td>\n",
              "      <td>8.3014</td>\n",
              "      <td>358500.0</td>\n",
              "      <td>PERTO DA BAÍA</td>\n",
              "    </tr>\n",
              "    <tr>\n",
              "      <th>2</th>\n",
              "      <td>-122.24</td>\n",
              "      <td>37.85</td>\n",
              "      <td>52.0</td>\n",
              "      <td>1467.0</td>\n",
              "      <td>190.0</td>\n",
              "      <td>496.0</td>\n",
              "      <td>177.0</td>\n",
              "      <td>7.2574</td>\n",
              "      <td>352100.0</td>\n",
              "      <td>PERTO DA BAÍA</td>\n",
              "    </tr>\n",
              "    <tr>\n",
              "      <th>3</th>\n",
              "      <td>-122.25</td>\n",
              "      <td>37.85</td>\n",
              "      <td>52.0</td>\n",
              "      <td>1274.0</td>\n",
              "      <td>235.0</td>\n",
              "      <td>558.0</td>\n",
              "      <td>219.0</td>\n",
              "      <td>5.6431</td>\n",
              "      <td>341300.0</td>\n",
              "      <td>PERTO DA BAÍA</td>\n",
              "    </tr>\n",
              "    <tr>\n",
              "      <th>4</th>\n",
              "      <td>-122.25</td>\n",
              "      <td>37.85</td>\n",
              "      <td>52.0</td>\n",
              "      <td>1627.0</td>\n",
              "      <td>280.0</td>\n",
              "      <td>565.0</td>\n",
              "      <td>259.0</td>\n",
              "      <td>3.8462</td>\n",
              "      <td>342200.0</td>\n",
              "      <td>PERTO DA BAÍA</td>\n",
              "    </tr>\n",
              "  </tbody>\n",
              "</table>\n",
              "</div>\n",
              "      <button class=\"colab-df-convert\" onclick=\"convertToInteractive('df-51eabdc5-8a9e-420b-b64f-77ed00d0bd1a')\"\n",
              "              title=\"Convert this dataframe to an interactive table.\"\n",
              "              style=\"display:none;\">\n",
              "        \n",
              "  <svg xmlns=\"http://www.w3.org/2000/svg\" height=\"24px\"viewBox=\"0 0 24 24\"\n",
              "       width=\"24px\">\n",
              "    <path d=\"M0 0h24v24H0V0z\" fill=\"none\"/>\n",
              "    <path d=\"M18.56 5.44l.94 2.06.94-2.06 2.06-.94-2.06-.94-.94-2.06-.94 2.06-2.06.94zm-11 1L8.5 8.5l.94-2.06 2.06-.94-2.06-.94L8.5 2.5l-.94 2.06-2.06.94zm10 10l.94 2.06.94-2.06 2.06-.94-2.06-.94-.94-2.06-.94 2.06-2.06.94z\"/><path d=\"M17.41 7.96l-1.37-1.37c-.4-.4-.92-.59-1.43-.59-.52 0-1.04.2-1.43.59L10.3 9.45l-7.72 7.72c-.78.78-.78 2.05 0 2.83L4 21.41c.39.39.9.59 1.41.59.51 0 1.02-.2 1.41-.59l7.78-7.78 2.81-2.81c.8-.78.8-2.07 0-2.86zM5.41 20L4 18.59l7.72-7.72 1.47 1.35L5.41 20z\"/>\n",
              "  </svg>\n",
              "      </button>\n",
              "      \n",
              "  <style>\n",
              "    .colab-df-container {\n",
              "      display:flex;\n",
              "      flex-wrap:wrap;\n",
              "      gap: 12px;\n",
              "    }\n",
              "\n",
              "    .colab-df-convert {\n",
              "      background-color: #E8F0FE;\n",
              "      border: none;\n",
              "      border-radius: 50%;\n",
              "      cursor: pointer;\n",
              "      display: none;\n",
              "      fill: #1967D2;\n",
              "      height: 32px;\n",
              "      padding: 0 0 0 0;\n",
              "      width: 32px;\n",
              "    }\n",
              "\n",
              "    .colab-df-convert:hover {\n",
              "      background-color: #E2EBFA;\n",
              "      box-shadow: 0px 1px 2px rgba(60, 64, 67, 0.3), 0px 1px 3px 1px rgba(60, 64, 67, 0.15);\n",
              "      fill: #174EA6;\n",
              "    }\n",
              "\n",
              "    [theme=dark] .colab-df-convert {\n",
              "      background-color: #3B4455;\n",
              "      fill: #D2E3FC;\n",
              "    }\n",
              "\n",
              "    [theme=dark] .colab-df-convert:hover {\n",
              "      background-color: #434B5C;\n",
              "      box-shadow: 0px 1px 3px 1px rgba(0, 0, 0, 0.15);\n",
              "      filter: drop-shadow(0px 1px 2px rgba(0, 0, 0, 0.3));\n",
              "      fill: #FFFFFF;\n",
              "    }\n",
              "  </style>\n",
              "\n",
              "      <script>\n",
              "        const buttonEl =\n",
              "          document.querySelector('#df-51eabdc5-8a9e-420b-b64f-77ed00d0bd1a button.colab-df-convert');\n",
              "        buttonEl.style.display =\n",
              "          google.colab.kernel.accessAllowed ? 'block' : 'none';\n",
              "\n",
              "        async function convertToInteractive(key) {\n",
              "          const element = document.querySelector('#df-51eabdc5-8a9e-420b-b64f-77ed00d0bd1a');\n",
              "          const dataTable =\n",
              "            await google.colab.kernel.invokeFunction('convertToInteractive',\n",
              "                                                     [key], {});\n",
              "          if (!dataTable) return;\n",
              "\n",
              "          const docLinkHtml = 'Like what you see? Visit the ' +\n",
              "            '<a target=\"_blank\" href=https://colab.research.google.com/notebooks/data_table.ipynb>data table notebook</a>'\n",
              "            + ' to learn more about interactive tables.';\n",
              "          element.innerHTML = '';\n",
              "          dataTable['output_type'] = 'display_data';\n",
              "          await google.colab.output.renderOutput(dataTable, element);\n",
              "          const docLink = document.createElement('div');\n",
              "          docLink.innerHTML = docLinkHtml;\n",
              "          element.appendChild(docLink);\n",
              "        }\n",
              "      </script>\n",
              "    </div>\n",
              "  </div>\n",
              "  "
            ],
            "text/plain": [
              "   longitude  latitude  ...  preco_mediano_das_casas  proximidade_ao_mar\n",
              "0    -122.23     37.88  ...                 452600.0       PERTO DA BAÍA\n",
              "1    -122.22     37.86  ...                 358500.0       PERTO DA BAÍA\n",
              "2    -122.24     37.85  ...                 352100.0       PERTO DA BAÍA\n",
              "3    -122.25     37.85  ...                 341300.0       PERTO DA BAÍA\n",
              "4    -122.25     37.85  ...                 342200.0       PERTO DA BAÍA\n",
              "\n",
              "[5 rows x 10 columns]"
            ]
          },
          "metadata": {},
          "execution_count": 34
        }
      ],
      "source": [
        "#preco_mediano_das_casas é a variável target\n",
        "df = pd.read_csv(\"/content/drive/MyDrive/Colab Notebooks/preco_casas.csv\")\n",
        "print(df.shape)\n",
        "df.head()"
      ]
    },
    {
      "cell_type": "code",
      "source": [
        "## Preparando os dados utilizando a função já criada em aulas anteriores:\n",
        "\n",
        "from sklearn.model_selection import train_test_split\n",
        "from sklearn.preprocessing import StandardScaler\n",
        "\n",
        "dftrain, dftest = train_test_split(df)\n",
        "\n",
        "def preprocessamento_completo(df, dataset_de_treino = True, cat_encoder = None, std_scaler = None):\n",
        "\n",
        "    dff = df.copy()\n",
        "\n",
        "    #criação de novas variáveis\n",
        "    dff[\"comodos_por_familia\"] = dff[\"total_comodos\"]/dff[\"familias\"]\n",
        "    dff[\"quartos_por_comodos\"] = dff[\"total_quartos\"]/dff[\"total_comodos\"]\n",
        "    dff[\"populacao_por_familia\"]= dff[\"populacao\"]/dff[\"familias\"]\n",
        "\n",
        "    #retirando valores faltantes\n",
        "    dff = dff.dropna(axis = 0)\n",
        "    \n",
        "    variaveis_para_normalizar = ['latitude',\n",
        "                                 'longitude',\n",
        "                                'idade_mediana_das_casas',\n",
        "                                 'total_comodos',\n",
        "                                 'total_quartos',\n",
        "                                 'populacao',\n",
        "                                 'familias',\n",
        "                                 'salario_mediano',\n",
        "                                 'comodos_por_familia',\n",
        "                                 'quartos_por_comodos',\n",
        "                                 'populacao_por_familia']\n",
        "\n",
        "    if dataset_de_treino:  \n",
        "        \n",
        "        #OHE\n",
        "        encoder = OneHotEncoder()\n",
        "        df_prox_mar_OHE = encoder.fit_transform(dff[['proximidade_ao_mar']]).toarray()\n",
        "\n",
        "        #normalização\n",
        "        sc = StandardScaler()\n",
        "        variaveis_norm = sc.fit_transform(dff[variaveis_para_normalizar])\n",
        "        \n",
        "        X, y =  np.c_[df_prox_mar_OHE, variaveis_norm], dff.preco_mediano_das_casas.values\n",
        "        return X, y, encoder, sc\n",
        "    \n",
        "    else:\n",
        "        #OHE\n",
        "        df_prox_mar_OHE = cat_encoder.transform(dff[['proximidade_ao_mar']]).toarray()\n",
        "        \n",
        "        #normalização\n",
        "        variaveis_norm = std_scaler.transform(dff[variaveis_para_normalizar]) \n",
        "        \n",
        "        X, y =  np.c_[df_prox_mar_OHE, variaveis_norm], dff.preco_mediano_das_casas.values\n",
        "        return X, y"
      ],
      "metadata": {
        "id": "wsnqUqkKTeD3"
      },
      "execution_count": 66,
      "outputs": []
    },
    {
      "cell_type": "code",
      "source": [
        "Xtrain, ytrain, encoder_train, scaler_train  = preprocessamento_completo(df = dftrain, dataset_de_treino = True, cat_encoder = None, std_scaler = None)\n",
        "Xtrain.shape, ytrain.shape, dftrain.shape"
      ],
      "metadata": {
        "id": "DuyhJliDWHnQ"
      },
      "execution_count": 68,
      "outputs": []
    },
    {
      "cell_type": "code",
      "source": [
        "Xtest, ytest = preprocessamento_completo(df = dftest, dataset_de_treino = False, cat_encoder = encoder_train, std_scaler = scaler_train)\n",
        "Xtest.shape, ytest.shape, dftest.shape"
      ],
      "metadata": {
        "colab": {
          "base_uri": "https://localhost:8080/"
        },
        "id": "_pwFC1E2WpEj",
        "outputId": "d60c18d6-98dd-4e34-ca27-c0547ea8c9cd"
      },
      "execution_count": 341,
      "outputs": [
        {
          "output_type": "execute_result",
          "data": {
            "text/plain": [
              "((5160, 16), (5160,), (5160, 10))"
            ]
          },
          "metadata": {},
          "execution_count": 341
        }
      ]
    },
    {
      "cell_type": "code",
      "source": [
        "def search_best(estimator, params, X, y):\n",
        "  grid = GridSearchCV(estimator = estimator, \n",
        "                      param_grid = params, \n",
        "                      scoring = 'r2', \n",
        "                      cv = 3)\n",
        "\n",
        "  grid.fit(X, y)\n",
        "  return grid.best_params_, grid.best_score_\n"
      ],
      "metadata": {
        "id": "t9xztZwwZt3m"
      },
      "execution_count": 123,
      "outputs": []
    },
    {
      "cell_type": "code",
      "source": [
        "# Knn\n",
        "\n",
        "from sklearn.neighbors import KNeighborsRegressor\n",
        "\n",
        "knn = KNeighborsRegressor()\n",
        "\n",
        "knn_params = [{\"n_neighbors\":[1,5,10,100]}]\n",
        "knn_best, knn_score = search_best(knn, knn_params, Xtrain, ytrain)\n",
        "\n",
        "knn_best, knn_score"
      ],
      "metadata": {
        "colab": {
          "base_uri": "https://localhost:8080/"
        },
        "id": "k2cGCAehhD4P",
        "outputId": "6221c2cb-bc90-493b-88e2-1317fb9af42d"
      },
      "execution_count": 126,
      "outputs": [
        {
          "output_type": "execute_result",
          "data": {
            "text/plain": [
              "({'n_neighbors': 10}, 0.7176486623455928)"
            ]
          },
          "metadata": {},
          "execution_count": 126
        }
      ]
    },
    {
      "cell_type": "code",
      "source": [
        "# Forest\n",
        "\n",
        "from sklearn.ensemble import RandomForestRegressor\n",
        "\n",
        "fr = RandomForestRegressor()\n",
        "\n",
        "fr_params = [{'n_estimators': [3,10,30], 'max_features': [2, 4, 6, 8], \"max_depth\":[2,10]}]\n",
        "fr_best, fr_score = search_best(fr, fr_params, Xtrain, ytrain)\n",
        "fr_best, fr_score\n"
      ],
      "metadata": {
        "colab": {
          "base_uri": "https://localhost:8080/"
        },
        "id": "Zf90R53chECc",
        "outputId": "6821905d-9cf2-4214-a973-12fcad9d04c7"
      },
      "execution_count": 130,
      "outputs": [
        {
          "output_type": "execute_result",
          "data": {
            "text/plain": [
              "({'max_depth': 10, 'max_features': 8, 'n_estimators': 30}, 0.7938555679803637)"
            ]
          },
          "metadata": {},
          "execution_count": 130
        }
      ]
    },
    {
      "cell_type": "code",
      "source": [
        "# Gradient Boost\n",
        "\n",
        "from sklearn.ensemble import GradientBoostingRegressor\n",
        "\n",
        "gb = GradientBoostingRegressor()\n",
        "\n",
        "gb_params = [{'n_estimators': [3,10,30], 'learning_rate': [0.001, 0.1, 0.25, 1, 2], \"max_depth\":[2,10]}]\n",
        "\n",
        "gb_best, gb_score = search_best(gb, gb_params, Xtrain, ytrain)\n",
        "gb_best, gb_score"
      ],
      "metadata": {
        "colab": {
          "base_uri": "https://localhost:8080/"
        },
        "id": "s9RdatM7hEKU",
        "outputId": "45febf22-00e0-4b0e-8585-205a3be1976e"
      },
      "execution_count": 131,
      "outputs": [
        {
          "output_type": "execute_result",
          "data": {
            "text/plain": [
              "({'learning_rate': 0.1, 'max_depth': 10, 'n_estimators': 30},\n",
              " 0.811556047278731)"
            ]
          },
          "metadata": {},
          "execution_count": 131
        }
      ]
    },
    {
      "cell_type": "markdown",
      "metadata": {
        "id": "6Z7fWubSDyOl"
      },
      "source": [
        "__Exercício 2:__ Crie uma classe para comparar o grid_search dentre vários modelos distintos.\n",
        "    \n",
        "    \n",
        "Essa classe, gridSearchAll(), já está pré-desenvolvida no código abaixo. O exercício consiste de __completar essa classe.__ Para isso, crie o métodos fit_all, que irá treinar, usando grid_search, todos os grids que tenham sido pré-construídos e inseridos na classe.\n",
        "Ainda, a quantidade de folds para a validação cruzada no grid_search deve ser implementada no método construtor da classe, bem como qual a métrica de performance a ser avaliada. \n",
        "Finalmente, salve o melhor modelo de cada grid e tenha um método best_all_grid_models que retorna o melhor modelo dentre todos os grids."
      ]
    },
    {
      "cell_type": "code",
      "source": [
        "from google.colab import drive\n",
        "drive.mount('/content/drive')"
      ],
      "metadata": {
        "id": "0M7QqjCcNZGe",
        "colab": {
          "base_uri": "https://localhost:8080/"
        },
        "outputId": "956c4865-8845-434b-a44a-86555f52a74b"
      },
      "execution_count": 15,
      "outputs": [
        {
          "output_type": "stream",
          "name": "stdout",
          "text": [
            "Mounted at /content/drive\n"
          ]
        }
      ]
    },
    {
      "cell_type": "code",
      "execution_count": 314,
      "metadata": {
        "id": "Wk-5lA8yDyOm"
      },
      "outputs": [],
      "source": [
        "class gridSearchAll():\n",
        "    \n",
        "    def __init__(self):\n",
        "        self.grid_models = []\n",
        "        self.scores = []\n",
        "        #num_folds...\n",
        "    \n",
        "    def insert_model(self, estimator_base, param_grid):\n",
        "      self.grid_models.append([estimator_base, param_grid])\n",
        "        \n",
        "    def fit_all(self, X, y, scoring='r2', folds=3):\n",
        "      scores = []\n",
        "\n",
        "      for est in range(len(self.grid_models)):\n",
        "        grid = GridSearchCV(estimator = self.grid_models[est][0], param_grid = self.grid_models[est][1], scoring = scoring, cv = folds)\n",
        "        grid.fit(X, y)\n",
        "\n",
        "        print(f'Model: {self.grid_models[est][0]}, best_params: {grid.best_params_}, score: {grid.best_score_}')\n",
        "        scores.append([grid.estimator, grid.best_params_, grid.best_score_])\n",
        "      \n",
        "      self.grid = grid\n",
        "      self.scores = scores\n",
        "      print('Model Trained')\n",
        "\n",
        "    def best_all_grid_models(self):\n",
        "      dataframe = pd.DataFrame(self.scores, columns=['Model', 'Best Params', 'Score'])\n",
        "      best = dataframe[dataframe.Score == dataframe.Score.max()].values[0]\n",
        "\n",
        "      self.best = best\n",
        "      print(f'Best model: {best[0]}. Best parameters: {best[1]}. Score: {best[2]} ({self.grid.scorer_})')\n",
        "      "
      ]
    },
    {
      "cell_type": "code",
      "execution_count": 315,
      "metadata": {
        "id": "d2FPyxTpDyOm"
      },
      "outputs": [],
      "source": [
        "gd = gridSearchAll()"
      ]
    },
    {
      "cell_type": "code",
      "execution_count": 316,
      "metadata": {
        "id": "HwB6NhVjDyOn",
        "outputId": "fd0e016d-e66f-4fb5-ba0b-7129aecad064",
        "colab": {
          "base_uri": "https://localhost:8080/"
        }
      },
      "outputs": [
        {
          "output_type": "execute_result",
          "data": {
            "text/plain": [
              "[]"
            ]
          },
          "metadata": {},
          "execution_count": 316
        }
      ],
      "source": [
        "gd.grid_models"
      ]
    },
    {
      "cell_type": "code",
      "execution_count": 317,
      "metadata": {
        "id": "eziDBFtIDyOn",
        "outputId": "171dd489-88cd-4989-c800-3e44b76afbdc",
        "colab": {
          "base_uri": "https://localhost:8080/"
        }
      },
      "outputs": [
        {
          "output_type": "execute_result",
          "data": {
            "text/plain": [
              "{'max_depth': [2, 10], 'n_estimators': [10, 1000]}"
            ]
          },
          "metadata": {},
          "execution_count": 317
        }
      ],
      "source": [
        "params_RF"
      ]
    },
    {
      "cell_type": "code",
      "execution_count": 318,
      "metadata": {
        "id": "ggKvD82GDyOo"
      },
      "outputs": [],
      "source": [
        "gd.insert_model(estimator_base = RandomForestRegressor(), param_grid = params_RF)"
      ]
    },
    {
      "cell_type": "code",
      "execution_count": 319,
      "metadata": {
        "id": "k8sXdT16DyOp",
        "outputId": "35d1d56e-0158-4347-c21f-bcf59479668b",
        "colab": {
          "base_uri": "https://localhost:8080/"
        }
      },
      "outputs": [
        {
          "output_type": "execute_result",
          "data": {
            "text/plain": [
              "[[RandomForestRegressor(), {'max_depth': [2, 10], 'n_estimators': [10, 1000]}]]"
            ]
          },
          "metadata": {},
          "execution_count": 319
        }
      ],
      "source": [
        "gd.grid_models"
      ]
    },
    {
      "cell_type": "code",
      "execution_count": 320,
      "metadata": {
        "id": "U--BrteqDyOq"
      },
      "outputs": [],
      "source": [
        "from sklearn.neighbors import KNeighborsRegressor"
      ]
    },
    {
      "cell_type": "code",
      "execution_count": 321,
      "metadata": {
        "id": "8C67N2LLDyOr"
      },
      "outputs": [],
      "source": [
        "gd.insert_model(estimator_base = KNeighborsRegressor(), param_grid = {\"n_neighbors\":[1,2,10]})"
      ]
    },
    {
      "cell_type": "code",
      "execution_count": 322,
      "metadata": {
        "id": "6DCmaZ3pDyOr",
        "outputId": "b3d1fd0d-eba7-420d-cebf-9673addd0fe9",
        "colab": {
          "base_uri": "https://localhost:8080/"
        }
      },
      "outputs": [
        {
          "output_type": "execute_result",
          "data": {
            "text/plain": [
              "[[RandomForestRegressor(), {'max_depth': [2, 10], 'n_estimators': [10, 1000]}],\n",
              " [KNeighborsRegressor(), {'n_neighbors': [1, 2, 10]}]]"
            ]
          },
          "metadata": {},
          "execution_count": 322
        }
      ],
      "source": [
        "gd.grid_models"
      ]
    },
    {
      "cell_type": "code",
      "source": [
        "from sklearn.ensemble import GradientBoostingRegressor\n",
        "\n",
        "params_gb = {'n_estimators': [3, 10, 30], 'learning_rate': [0.001, 0.1, 0.25, 1, 2, 5], \"max_depth\":[2,10]}\n"
      ],
      "metadata": {
        "id": "-Rm-eIfNtMRG"
      },
      "execution_count": 323,
      "outputs": []
    },
    {
      "cell_type": "code",
      "source": [
        "params_gb = {'n_estimators': [1, 3, 10, 100], 'learning_rate': [0.01, 0.25, 1, 1.25, 5]}\n",
        "\n",
        "gd.insert_model(estimator_base=GradientBoostingRegressor(), param_grid=params_gb)"
      ],
      "metadata": {
        "id": "WroySEIstD8n"
      },
      "execution_count": 324,
      "outputs": []
    },
    {
      "cell_type": "code",
      "source": [
        "gd.grid_models"
      ],
      "metadata": {
        "colab": {
          "base_uri": "https://localhost:8080/"
        },
        "id": "HHdPYjcrtEGU",
        "outputId": "0a09eba1-cd52-4ff8-eda7-18937ce1c446"
      },
      "execution_count": 325,
      "outputs": [
        {
          "output_type": "execute_result",
          "data": {
            "text/plain": [
              "[[RandomForestRegressor(), {'max_depth': [2, 10], 'n_estimators': [10, 1000]}],\n",
              " [KNeighborsRegressor(), {'n_neighbors': [1, 2, 10]}],\n",
              " [GradientBoostingRegressor(),\n",
              "  {'learning_rate': [0.01, 0.25, 1, 1.25, 5],\n",
              "   'n_estimators': [1, 3, 10, 100]}]]"
            ]
          },
          "metadata": {},
          "execution_count": 325
        }
      ]
    },
    {
      "cell_type": "markdown",
      "metadata": {
        "id": "kSrCBkt9DyOs"
      },
      "source": [
        "__Exercício 3:__ Usando a classe criada, analise novamente os modelos criados no exercício 1."
      ]
    },
    {
      "cell_type": "code",
      "source": [
        "gd.fit_all(Xtrain, ytrain)"
      ],
      "metadata": {
        "colab": {
          "base_uri": "https://localhost:8080/"
        },
        "id": "y9RWybzcrBrG",
        "outputId": "796c172b-c556-4643-b72b-d2e12a4fe7f3"
      },
      "execution_count": 326,
      "outputs": [
        {
          "output_type": "stream",
          "name": "stdout",
          "text": [
            "Model: RandomForestRegressor(), best_params: {'max_depth': 10, 'n_estimators': 1000}, score: 0.7909453251999164\n",
            "Model: KNeighborsRegressor(), best_params: {'n_neighbors': 10}, score: 0.7176486623455928\n",
            "Model: GradientBoostingRegressor(), best_params: {'learning_rate': 0.25, 'n_estimators': 100}, score: 0.8136696606328382\n",
            "Model Trained\n"
          ]
        }
      ]
    },
    {
      "cell_type": "code",
      "source": [
        "gd.best_all_grid_models()"
      ],
      "metadata": {
        "colab": {
          "base_uri": "https://localhost:8080/"
        },
        "id": "CBAJGH2TvZFs",
        "outputId": "20b24a2a-1939-4757-8105-fbdf53c77a6b"
      },
      "execution_count": 327,
      "outputs": [
        {
          "output_type": "stream",
          "name": "stdout",
          "text": [
            "Best model: GradientBoostingRegressor(). Best parameters: {'learning_rate': 0.25, 'n_estimators': 100}. Score: 0.8136696606328382 (make_scorer(r2_score))\n"
          ]
        }
      ]
    },
    {
      "cell_type": "code",
      "source": [
        "gb = GradientBoostingRegressor(learning_rate=0.25, n_estimators=100)\n",
        "gb.fit(Xtrain, ytrain)"
      ],
      "metadata": {
        "colab": {
          "base_uri": "https://localhost:8080/"
        },
        "id": "iMV378Q4yoAa",
        "outputId": "4839f2ff-96f9-4513-d5ba-87008c89dfed"
      },
      "execution_count": 332,
      "outputs": [
        {
          "output_type": "execute_result",
          "data": {
            "text/plain": [
              "GradientBoostingRegressor(learning_rate=0.25)"
            ]
          },
          "metadata": {},
          "execution_count": 332
        }
      ]
    },
    {
      "cell_type": "code",
      "source": [
        "from sklearn.metrics import r2_score"
      ],
      "metadata": {
        "id": "-yqnqgOI49si"
      },
      "execution_count": 365,
      "outputs": []
    },
    {
      "cell_type": "code",
      "source": [
        "r2_score(ytest, gb.predict(Xtest))"
      ],
      "metadata": {
        "colab": {
          "base_uri": "https://localhost:8080/"
        },
        "id": "wVA-F1lJ8EXv",
        "outputId": "828eee82-315e-4899-fd6b-9b7c96809268"
      },
      "execution_count": 366,
      "outputs": [
        {
          "output_type": "execute_result",
          "data": {
            "text/plain": [
              "0.8056798932976598"
            ]
          },
          "metadata": {},
          "execution_count": 366
        }
      ]
    },
    {
      "cell_type": "code",
      "source": [
        ""
      ],
      "metadata": {
        "id": "et52gI0w9_fm"
      },
      "execution_count": null,
      "outputs": []
    }
  ],
  "metadata": {
    "kernelspec": {
      "display_name": "Python 3",
      "language": "python",
      "name": "python3"
    },
    "language_info": {
      "codemirror_mode": {
        "name": "ipython",
        "version": 3
      },
      "file_extension": ".py",
      "mimetype": "text/x-python",
      "name": "python",
      "nbconvert_exporter": "python",
      "pygments_lexer": "ipython3",
      "version": "3.7.4"
    },
    "colab": {
      "name": "12_Arvores_Ensembles_exercicio.ipynb",
      "provenance": [],
      "collapsed_sections": [],
      "include_colab_link": true
    }
  },
  "nbformat": 4,
  "nbformat_minor": 0
}