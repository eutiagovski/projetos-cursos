{
  "nbformat": 4,
  "nbformat_minor": 0,
  "metadata": {
    "colab": {
      "name": "11_Implementando_Modelos_aula.ipynb",
      "provenance": []
    },
    "kernelspec": {
      "name": "python3",
      "display_name": "Python 3"
    },
    "language_info": {
      "name": "python"
    }
  },
  "cells": [
    {
      "cell_type": "markdown",
      "metadata": {
        "id": "FX9QccIlCUtR"
      },
      "source": [
        "#MENTORAMA - MODULO 11 - Training models\n",
        "\n"
      ]
    },
    {
      "cell_type": "markdown",
      "metadata": {
        "id": "JHzh4QS1ChyP"
      },
      "source": [
        "###1: Linear regression and normal equation"
      ]
    },
    {
      "cell_type": "code",
      "metadata": {
        "id": "zubMQHPuCFot"
      },
      "source": [
        "import numpy as np\n",
        "import pandas as pd\n",
        "import matplotlib.pyplot as plt\n",
        "\n",
        "import warnings\n",
        "warnings.filterwarnings('ignore')"
      ],
      "execution_count": 18,
      "outputs": []
    },
    {
      "cell_type": "code",
      "metadata": {
        "id": "MFTP_3N0CTDC"
      },
      "source": [
        "def random_data(sample_size=100):\n",
        "  X = 2 * np.random.rand(sample_size, 1)\n",
        "  y = 4 + 3 * X + np.random.randn(sample_size, 1)\n",
        "  return X, y\n",
        "\n"
      ],
      "execution_count": 30,
      "outputs": []
    },
    {
      "cell_type": "code",
      "metadata": {
        "colab": {
          "base_uri": "https://localhost:8080/"
        },
        "id": "MRMyfSrVNF7z",
        "outputId": "6f1b6c2f-01cb-4edf-98e6-2706618b0231"
      },
      "source": [
        "X, y = random_data(500)\n",
        "X.shape, y.shape\n"
      ],
      "execution_count": 31,
      "outputs": [
        {
          "output_type": "execute_result",
          "data": {
            "text/plain": [
              "((500, 1), (500, 1))"
            ]
          },
          "metadata": {},
          "execution_count": 31
        }
      ]
    },
    {
      "cell_type": "code",
      "metadata": {
        "colab": {
          "base_uri": "https://localhost:8080/",
          "height": 374
        },
        "id": "QfavgIhaNEON",
        "outputId": "ddb7664c-fc81-4c0f-cf30-fbffb2245a58"
      },
      "source": [
        "plt.figure(figsize=[8,6])\n",
        "plt.plot(X, y, \"b.\")\n",
        "plt.show()"
      ],
      "execution_count": 32,
      "outputs": [
        {
          "output_type": "display_data",
          "data": {
            "image/png": "[encoded data removed]",
            "text/plain": [
              "<Figure size 576x432 with 1 Axes>"
            ]
          },
          "metadata": {
            "needs_background": "light"
          }
        }
      ]
    },
    {
      "cell_type": "code",
      "metadata": {
        "id": "CgsjWyQoHZMv"
      },
      "source": [
        "# Finding the theta best manually\n",
        "\n",
        "def normal_lin_reg(X, y):\n",
        "  X = np.c_[np.ones((X.shape[0], 1)), X]\n",
        "  X_transposed = X.T\n",
        "  XTX = X_transposed.dot(X)\n",
        "  inverted = np.linalg.inv(XTX)\n",
        "  theta_best = inverted.dot(X_transposed).dot(y)\n",
        "\n",
        "  return theta_best"
      ],
      "execution_count": 39,
      "outputs": []
    },
    {
      "cell_type": "code",
      "metadata": {
        "colab": {
          "base_uri": "https://localhost:8080/"
        },
        "id": "7Lto7OCTOUA_",
        "outputId": "92e5fa5f-7284-49db-b8f7-1330d294eb16"
      },
      "source": [
        "theta_best = normal_lin_reg(X, y)\n",
        "theta_best"
      ],
      "execution_count": 47,
      "outputs": [
        {
          "output_type": "execute_result",
          "data": {
            "text/plain": [
              "array([[3.97156061],\n",
              "       [3.06641854]])"
            ]
          },
          "metadata": {},
          "execution_count": 47
        }
      ]
    },
    {
      "cell_type": "code",
      "metadata": {
        "colab": {
          "base_uri": "https://localhost:8080/"
        },
        "id": "UdzyeEDePfYy",
        "outputId": "a0fef160-bb92-4566-df51-ac03b3180d6f"
      },
      "source": [
        "X_new = np.array([[0], [2]])\n",
        "X_new_b = np.c_[np.ones((2, 1)), X_new]\n",
        "\n",
        "y_predict = X_new_b.dot(theta_best)\n",
        "y_predict"
      ],
      "execution_count": 49,
      "outputs": [
        {
          "output_type": "execute_result",
          "data": {
            "text/plain": [
              "array([[ 3.97156061],\n",
              "       [10.1043977 ]])"
            ]
          },
          "metadata": {},
          "execution_count": 49
        }
      ]
    },
    {
      "cell_type": "code",
      "metadata": {
        "colab": {
          "base_uri": "https://localhost:8080/",
          "height": 265
        },
        "id": "_BzyqU8pIzpf",
        "outputId": "4be707ee-07e1-428c-8714-b6f89f717fda"
      },
      "source": [
        "plt.plot(X_new, y_predict, \"r-\")\n",
        "plt.plot(X, y, \"b.\")\n",
        "plt.axis([0, 2, 0, 15])\n",
        "plt.show()"
      ],
      "execution_count": 51,
      "outputs": [
        {
          "output_type": "display_data",
          "data": {
            "image/png": "[encoded data removed]",
            "text/plain": [
              "<Figure size 432x288 with 1 Axes>"
            ]
          },
          "metadata": {
            "needs_background": "light"
          }
        }
      ]
    },
    {
      "cell_type": "code",
      "metadata": {
        "colab": {
          "base_uri": "https://localhost:8080/"
        },
        "id": "GOLFYWu1JBRv",
        "outputId": "87afddb1-0c00-4e01-cc28-1a11c2c19cbb"
      },
      "source": [
        "# Sklearn function to get theta best \n",
        "\n",
        "from sklearn.linear_model import LinearRegression\n",
        "\n",
        "lin_reg = LinearRegression()\n",
        "lin_reg.fit(X, y)\n"
      ],
      "execution_count": 41,
      "outputs": [
        {
          "output_type": "execute_result",
          "data": {
            "text/plain": [
              "LinearRegression(copy_X=True, fit_intercept=True, n_jobs=None, normalize=False)"
            ]
          },
          "metadata": {},
          "execution_count": 41
        }
      ]
    },
    {
      "cell_type": "code",
      "metadata": {
        "colab": {
          "base_uri": "https://localhost:8080/"
        },
        "id": "0Cs2nv1gJTLA",
        "outputId": "cb93ca6a-5e7b-46e5-cd02-5304798d8aa0"
      },
      "source": [
        "lin_reg.intercept_, lin_reg.coef_"
      ],
      "execution_count": 42,
      "outputs": [
        {
          "output_type": "execute_result",
          "data": {
            "text/plain": [
              "(array([3.97156061]), array([[3.06641854]]))"
            ]
          },
          "metadata": {},
          "execution_count": 42
        }
      ]
    },
    {
      "cell_type": "code",
      "metadata": {
        "colab": {
          "base_uri": "https://localhost:8080/"
        },
        "id": "hVumnUf1JWCO",
        "outputId": "ec408373-2122-4b26-b82d-03a340a9ffc0"
      },
      "source": [
        "y_pred = lin_reg.predict(X_new)\n",
        "y_pred"
      ],
      "execution_count": 44,
      "outputs": [
        {
          "output_type": "execute_result",
          "data": {
            "text/plain": [
              "array([[ 3.97156061],\n",
              "       [10.1043977 ]])"
            ]
          },
          "metadata": {},
          "execution_count": 44
        }
      ]
    },
    {
      "cell_type": "code",
      "metadata": {
        "colab": {
          "base_uri": "https://localhost:8080/",
          "height": 265
        },
        "id": "Bm0AMLTqJaPu",
        "outputId": "6fd0c7b3-5093-4faa-8068-5df1e6c12623"
      },
      "source": [
        "plt.plot(X_new, y_pred, \"r-\")\n",
        "plt.plot(X, y, \"b.\")\n",
        "plt.axis([0, 2, 0, 15])\n",
        "plt.show()"
      ],
      "execution_count": 54,
      "outputs": [
        {
          "output_type": "display_data",
          "data": {
            "image/png": "[encoded data removed]",
            "text/plain": [
              "<Figure size 432x288 with 1 Axes>"
            ]
          },
          "metadata": {
            "needs_background": "light"
          }
        }
      ]
    },
    {
      "cell_type": "code",
      "metadata": {
        "id": "PivABtl8PZrf"
      },
      "source": [
        ""
      ],
      "execution_count": null,
      "outputs": []
    }
  ]
}