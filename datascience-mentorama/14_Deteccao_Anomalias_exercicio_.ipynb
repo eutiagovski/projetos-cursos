{
  "cells": [
    {
      "cell_type": "markdown",
      "metadata": {
        "id": "view-in-github",
        "colab_type": "text"
      },
      "source": [
        "<a href=\"https://colab.research.google.com/github/eutiagovski/projetos-cursos/blob/main/datascience-mentorama/14_Deteccao_Anomalias_exercicio_.ipynb\" target=\"_parent\"><img src=\"https://colab.research.google.com/assets/colab-badge.svg\" alt=\"Open In Colab\"/></a>"
      ]
    },
    {
      "cell_type": "markdown",
      "source": [
        "\n",
        "#Detecção de Anomalias\n",
        "\n"
      ],
      "metadata": {
        "id": "BX2GBzlkR6He"
      }
    },
    {
      "cell_type": "markdown",
      "metadata": {
        "id": "DcCfPpWWsexE"
      },
      "source": [
        "<br>\n",
        "\n",
        "##Exercício 1: Utilizando a classe DetectorAnomalias criada ao longo do módulo, __vamos avaliar um detector de anomalias.__\n",
        "\n",
        "O dataset utilizado pode ser importado através da função getData. \n",
        "\n",
        "Nesse conjunto de dados, possuímos 6 variáveis explicativas, $X_1, .., X_6$ e uma variável com a marcação se a instância é uma anomalia ou não.\n",
        "\n",
        "Utilizando a __metodolodia__ discutida ao longo do módulo, __teste diferentes modelos (variando o limiar $\\epsilon$)__ a fim de encontrar o que __melhor fita os dados.__\n",
        "\n",
        "Justifique as escolhas do $\\epsilon$, bem como quais as métricas de performance abordadas. \n",
        "\n",
        "<br>\n",
        "\n"
      ]
    },
    {
      "cell_type": "code",
      "execution_count": 8,
      "metadata": {
        "id": "TSD2lfaJsexL"
      },
      "outputs": [],
      "source": [
        "import pandas as pd \n",
        "import numpy as np\n",
        "import scipy.stats as st\n",
        "import matplotlib.pyplot as plt\n",
        "from sklearn.base import BaseEstimator"
      ]
    },
    {
      "cell_type": "code",
      "execution_count": 9,
      "metadata": {
        "id": "BbmPXAeksexP"
      },
      "outputs": [],
      "source": [
        "class DetectorAnomalias(BaseEstimator):\n",
        "    \n",
        "    def __init__(self, epsilon):\n",
        "        self.epsilon = epsilon\n",
        "        \n",
        "    def fit(self, X, y=None):\n",
        "        medias = X.mean(axis = 0)\n",
        "        desvios = X.std(axis = 0)\n",
        "        gaussianas = [st.norm(loc = m, scale = d) for m, d in zip(medias, desvios)]  \n",
        "        self.gaussianas = gaussianas\n",
        "        self.X = X\n",
        "        \n",
        "    def prob(self, x):\n",
        "        p = 1\n",
        "        for i in range(self.X.shape[1]):\n",
        "            gaussiana_i = self.gaussianas[i]\n",
        "            x_i = x[i]\n",
        "            p *= gaussiana_i.pdf(x_i)\n",
        "        return p\n",
        "    \n",
        "    def isAnomaly(self, x):\n",
        "        return int(np.where(self.prob(x) < self.epsilon, 1, 0))"
      ]
    },
    {
      "cell_type": "code",
      "execution_count": 10,
      "metadata": {
        "id": "41nTTEBcsexS"
      },
      "outputs": [],
      "source": [
        "def getData():\n",
        "    return pd.read_csv(\"dataframe_anomalias_exercicio.csv\")"
      ]
    },
    {
      "cell_type": "code",
      "execution_count": 11,
      "metadata": {
        "colab": {
          "base_uri": "https://localhost:8080/",
          "height": 424
        },
        "id": "2zpuUO8JsexV",
        "outputId": "3cfce028-9245-4892-e6bf-b16dff51e3fd"
      },
      "outputs": [
        {
          "output_type": "execute_result",
          "data": {
            "text/html": [
              "\n",
              "  <div id=\"df-498f3e75-5ddd-457b-844a-51992dbb01b7\">\n",
              "    <div class=\"colab-df-container\">\n",
              "      <div>\n",
              "<style scoped>\n",
              "    .dataframe tbody tr th:only-of-type {\n",
              "        vertical-align: middle;\n",
              "    }\n",
              "\n",
              "    .dataframe tbody tr th {\n",
              "        vertical-align: top;\n",
              "    }\n",
              "\n",
              "    .dataframe thead th {\n",
              "        text-align: right;\n",
              "    }\n",
              "</style>\n",
              "<table border=\"1\" class=\"dataframe\">\n",
              "  <thead>\n",
              "    <tr style=\"text-align: right;\">\n",
              "      <th></th>\n",
              "      <th>x1</th>\n",
              "      <th>x2</th>\n",
              "      <th>x3</th>\n",
              "      <th>x4</th>\n",
              "      <th>x5</th>\n",
              "      <th>x6</th>\n",
              "      <th>anomalia</th>\n",
              "    </tr>\n",
              "  </thead>\n",
              "  <tbody>\n",
              "    <tr>\n",
              "      <th>0</th>\n",
              "      <td>7.731153</td>\n",
              "      <td>23.299155</td>\n",
              "      <td>-0.367453</td>\n",
              "      <td>4.715372</td>\n",
              "      <td>9.306179</td>\n",
              "      <td>16.780965</td>\n",
              "      <td>0.0</td>\n",
              "    </tr>\n",
              "    <tr>\n",
              "      <th>1</th>\n",
              "      <td>11.466833</td>\n",
              "      <td>16.943695</td>\n",
              "      <td>-0.245131</td>\n",
              "      <td>7.060311</td>\n",
              "      <td>10.462826</td>\n",
              "      <td>19.821289</td>\n",
              "      <td>0.0</td>\n",
              "    </tr>\n",
              "    <tr>\n",
              "      <th>2</th>\n",
              "      <td>11.501272</td>\n",
              "      <td>20.196011</td>\n",
              "      <td>1.206049</td>\n",
              "      <td>-4.957189</td>\n",
              "      <td>7.771262</td>\n",
              "      <td>19.100079</td>\n",
              "      <td>0.0</td>\n",
              "    </tr>\n",
              "    <tr>\n",
              "      <th>3</th>\n",
              "      <td>10.893921</td>\n",
              "      <td>16.072385</td>\n",
              "      <td>2.738045</td>\n",
              "      <td>-3.684228</td>\n",
              "      <td>7.373334</td>\n",
              "      <td>23.225524</td>\n",
              "      <td>0.0</td>\n",
              "    </tr>\n",
              "    <tr>\n",
              "      <th>4</th>\n",
              "      <td>10.091706</td>\n",
              "      <td>19.253894</td>\n",
              "      <td>0.996895</td>\n",
              "      <td>-9.504052</td>\n",
              "      <td>8.883988</td>\n",
              "      <td>17.903298</td>\n",
              "      <td>0.0</td>\n",
              "    </tr>\n",
              "    <tr>\n",
              "      <th>...</th>\n",
              "      <td>...</td>\n",
              "      <td>...</td>\n",
              "      <td>...</td>\n",
              "      <td>...</td>\n",
              "      <td>...</td>\n",
              "      <td>...</td>\n",
              "      <td>...</td>\n",
              "    </tr>\n",
              "    <tr>\n",
              "      <th>10095</th>\n",
              "      <td>11.192286</td>\n",
              "      <td>18.451987</td>\n",
              "      <td>-0.953650</td>\n",
              "      <td>-14.362996</td>\n",
              "      <td>10.875826</td>\n",
              "      <td>17.056541</td>\n",
              "      <td>0.0</td>\n",
              "    </tr>\n",
              "    <tr>\n",
              "      <th>10096</th>\n",
              "      <td>12.014177</td>\n",
              "      <td>19.461815</td>\n",
              "      <td>1.985099</td>\n",
              "      <td>-7.119190</td>\n",
              "      <td>11.079922</td>\n",
              "      <td>17.582755</td>\n",
              "      <td>0.0</td>\n",
              "    </tr>\n",
              "    <tr>\n",
              "      <th>10097</th>\n",
              "      <td>10.745460</td>\n",
              "      <td>18.175951</td>\n",
              "      <td>0.206037</td>\n",
              "      <td>-1.897015</td>\n",
              "      <td>9.888329</td>\n",
              "      <td>17.963324</td>\n",
              "      <td>0.0</td>\n",
              "    </tr>\n",
              "    <tr>\n",
              "      <th>10098</th>\n",
              "      <td>9.893969</td>\n",
              "      <td>22.333270</td>\n",
              "      <td>-1.465981</td>\n",
              "      <td>4.137382</td>\n",
              "      <td>7.690620</td>\n",
              "      <td>21.570097</td>\n",
              "      <td>0.0</td>\n",
              "    </tr>\n",
              "    <tr>\n",
              "      <th>10099</th>\n",
              "      <td>11.563246</td>\n",
              "      <td>20.777121</td>\n",
              "      <td>-1.145317</td>\n",
              "      <td>-4.650515</td>\n",
              "      <td>11.857622</td>\n",
              "      <td>19.424881</td>\n",
              "      <td>0.0</td>\n",
              "    </tr>\n",
              "  </tbody>\n",
              "</table>\n",
              "<p>10100 rows × 7 columns</p>\n",
              "</div>\n",
              "      <button class=\"colab-df-convert\" onclick=\"convertToInteractive('df-498f3e75-5ddd-457b-844a-51992dbb01b7')\"\n",
              "              title=\"Convert this dataframe to an interactive table.\"\n",
              "              style=\"display:none;\">\n",
              "        \n",
              "  <svg xmlns=\"http://www.w3.org/2000/svg\" height=\"24px\"viewBox=\"0 0 24 24\"\n",
              "       width=\"24px\">\n",
              "    <path d=\"M0 0h24v24H0V0z\" fill=\"none\"/>\n",
              "    <path d=\"M18.56 5.44l.94 2.06.94-2.06 2.06-.94-2.06-.94-.94-2.06-.94 2.06-2.06.94zm-11 1L8.5 8.5l.94-2.06 2.06-.94-2.06-.94L8.5 2.5l-.94 2.06-2.06.94zm10 10l.94 2.06.94-2.06 2.06-.94-2.06-.94-.94-2.06-.94 2.06-2.06.94z\"/><path d=\"M17.41 7.96l-1.37-1.37c-.4-.4-.92-.59-1.43-.59-.52 0-1.04.2-1.43.59L10.3 9.45l-7.72 7.72c-.78.78-.78 2.05 0 2.83L4 21.41c.39.39.9.59 1.41.59.51 0 1.02-.2 1.41-.59l7.78-7.78 2.81-2.81c.8-.78.8-2.07 0-2.86zM5.41 20L4 18.59l7.72-7.72 1.47 1.35L5.41 20z\"/>\n",
              "  </svg>\n",
              "      </button>\n",
              "      \n",
              "  <style>\n",
              "    .colab-df-container {\n",
              "      display:flex;\n",
              "      flex-wrap:wrap;\n",
              "      gap: 12px;\n",
              "    }\n",
              "\n",
              "    .colab-df-convert {\n",
              "      background-color: #E8F0FE;\n",
              "      border: none;\n",
              "      border-radius: 50%;\n",
              "      cursor: pointer;\n",
              "      display: none;\n",
              "      fill: #1967D2;\n",
              "      height: 32px;\n",
              "      padding: 0 0 0 0;\n",
              "      width: 32px;\n",
              "    }\n",
              "\n",
              "    .colab-df-convert:hover {\n",
              "      background-color: #E2EBFA;\n",
              "      box-shadow: 0px 1px 2px rgba(60, 64, 67, 0.3), 0px 1px 3px 1px rgba(60, 64, 67, 0.15);\n",
              "      fill: #174EA6;\n",
              "    }\n",
              "\n",
              "    [theme=dark] .colab-df-convert {\n",
              "      background-color: #3B4455;\n",
              "      fill: #D2E3FC;\n",
              "    }\n",
              "\n",
              "    [theme=dark] .colab-df-convert:hover {\n",
              "      background-color: #434B5C;\n",
              "      box-shadow: 0px 1px 3px 1px rgba(0, 0, 0, 0.15);\n",
              "      filter: drop-shadow(0px 1px 2px rgba(0, 0, 0, 0.3));\n",
              "      fill: #FFFFFF;\n",
              "    }\n",
              "  </style>\n",
              "\n",
              "      <script>\n",
              "        const buttonEl =\n",
              "          document.querySelector('#df-498f3e75-5ddd-457b-844a-51992dbb01b7 button.colab-df-convert');\n",
              "        buttonEl.style.display =\n",
              "          google.colab.kernel.accessAllowed ? 'block' : 'none';\n",
              "\n",
              "        async function convertToInteractive(key) {\n",
              "          const element = document.querySelector('#df-498f3e75-5ddd-457b-844a-51992dbb01b7');\n",
              "          const dataTable =\n",
              "            await google.colab.kernel.invokeFunction('convertToInteractive',\n",
              "                                                     [key], {});\n",
              "          if (!dataTable) return;\n",
              "\n",
              "          const docLinkHtml = 'Like what you see? Visit the ' +\n",
              "            '<a target=\"_blank\" href=https://colab.research.google.com/notebooks/data_table.ipynb>data table notebook</a>'\n",
              "            + ' to learn more about interactive tables.';\n",
              "          element.innerHTML = '';\n",
              "          dataTable['output_type'] = 'display_data';\n",
              "          await google.colab.output.renderOutput(dataTable, element);\n",
              "          const docLink = document.createElement('div');\n",
              "          docLink.innerHTML = docLinkHtml;\n",
              "          element.appendChild(docLink);\n",
              "        }\n",
              "      </script>\n",
              "    </div>\n",
              "  </div>\n",
              "  "
            ],
            "text/plain": [
              "              x1         x2        x3  ...         x5         x6  anomalia\n",
              "0       7.731153  23.299155 -0.367453  ...   9.306179  16.780965       0.0\n",
              "1      11.466833  16.943695 -0.245131  ...  10.462826  19.821289       0.0\n",
              "2      11.501272  20.196011  1.206049  ...   7.771262  19.100079       0.0\n",
              "3      10.893921  16.072385  2.738045  ...   7.373334  23.225524       0.0\n",
              "4      10.091706  19.253894  0.996895  ...   8.883988  17.903298       0.0\n",
              "...          ...        ...       ...  ...        ...        ...       ...\n",
              "10095  11.192286  18.451987 -0.953650  ...  10.875826  17.056541       0.0\n",
              "10096  12.014177  19.461815  1.985099  ...  11.079922  17.582755       0.0\n",
              "10097  10.745460  18.175951  0.206037  ...   9.888329  17.963324       0.0\n",
              "10098   9.893969  22.333270 -1.465981  ...   7.690620  21.570097       0.0\n",
              "10099  11.563246  20.777121 -1.145317  ...  11.857622  19.424881       0.0\n",
              "\n",
              "[10100 rows x 7 columns]"
            ]
          },
          "metadata": {},
          "execution_count": 11
        }
      ],
      "source": [
        "df = getData()\n",
        "df"
      ]
    },
    {
      "cell_type": "code",
      "execution_count": 12,
      "metadata": {
        "colab": {
          "base_uri": "https://localhost:8080/"
        },
        "id": "bh3jKeM0sexX",
        "outputId": "e35c0324-85e4-4f7b-f420-b0f61c12293c"
      },
      "outputs": [
        {
          "output_type": "execute_result",
          "data": {
            "text/plain": [
              "0.0    10046\n",
              "1.0       54\n",
              "Name: anomalia, dtype: int64"
            ]
          },
          "metadata": {},
          "execution_count": 12
        }
      ],
      "source": [
        "df.anomalia.value_counts()"
      ]
    },
    {
      "cell_type": "code",
      "source": [
        "# separando os dados em treino, teste e validação\n",
        "from sklearn.model_selection import train_test_split\n",
        "\n",
        "df_anomalia = df.loc[df.anomalia == 1]\n",
        "df_nao_anomalia = df.loc[df.anomalia == 0]\n",
        "\n",
        "train_set, test_set = train_test_split(df_nao_anomalia, train_size=0.7)\n",
        "test_set, val_set = train_test_split(test_set, test_size=0.5)\n",
        "\n",
        "anomalia_size = int(df_anomalia.shape[0] / 2)\n",
        "\n",
        "test_set = pd.concat([test_set, df_anomalia[anomalia_size:]])\n",
        "val_set = pd.concat([val_set, df_anomalia[:anomalia_size]])"
      ],
      "metadata": {
        "id": "DR4yXHIA-EO0"
      },
      "execution_count": 14,
      "outputs": []
    },
    {
      "cell_type": "code",
      "source": [
        "# Separando a variável target\n",
        "Xtrain = train_set.drop('anomalia', axis=1).values\n",
        "ytrain = train_set.anomalia.copy().values\n",
        "\n",
        "Xtest = test_set.drop('anomalia', axis=1).values\n",
        "ytest = test_set.anomalia.copy().values\n",
        "\n",
        "Xval = val_set.drop('anomalia', axis=1).values\n",
        "yval = val_set.anomalia.copy().values"
      ],
      "metadata": {
        "id": "yioX6NMbAsWE"
      },
      "execution_count": 15,
      "outputs": []
    },
    {
      "cell_type": "code",
      "source": [
        "# Testanto o algoritimo com um epsilon qualquer\n",
        "\n",
        "detector = DetectorAnomalias(epsilon=1e-7)"
      ],
      "metadata": {
        "id": "ctAWhPF2AvmP"
      },
      "execution_count": 45,
      "outputs": []
    },
    {
      "cell_type": "code",
      "source": [
        "detector.fit(Xtrain)\n",
        "detector.isAnomaly(Xtest[0,:]), ytest[0]"
      ],
      "metadata": {
        "id": "9DphPu0WCP_0",
        "colab": {
          "base_uri": "https://localhost:8080/"
        },
        "outputId": "52667fe0-bcc9-44a2-fff1-3f41225b12b9"
      },
      "execution_count": 46,
      "outputs": [
        {
          "output_type": "execute_result",
          "data": {
            "text/plain": [
              "(0, 0.0)"
            ]
          },
          "metadata": {},
          "execution_count": 46
        }
      ]
    },
    {
      "cell_type": "code",
      "source": [
        "# Realizando o teste para todas as linhas\n",
        "from sklearn.metrics import accuracy_score, r2_score\n",
        "\n",
        "anomaly_test = []\n",
        "\n",
        "for i in range(Xtest.shape[0]):\n",
        "  anomaly_test.append(detector.isAnomaly(Xtest[i]))\n",
        "\n",
        "accuracy_score(ytest, anomaly_test).round(2)"
      ],
      "metadata": {
        "colab": {
          "base_uri": "https://localhost:8080/"
        },
        "id": "gMLOZl9GCXVo",
        "outputId": "bcc18ac9-c6cb-4f9b-a46b-54f6d4fc563d"
      },
      "execution_count": 47,
      "outputs": [
        {
          "output_type": "execute_result",
          "data": {
            "text/plain": [
              "0.96"
            ]
          },
          "metadata": {},
          "execution_count": 47
        }
      ]
    },
    {
      "cell_type": "code",
      "source": [
        "# Realizando a validacao para todas as linhas\n",
        "\n",
        "anomaly_val = []\n",
        "\n",
        "for i in range(Xval.shape[0]):\n",
        "  anomaly_val.append(detector.isAnomaly(Xval[i]))\n",
        "\n",
        "accuracy_score(yval, anomaly_val).round(2)"
      ],
      "metadata": {
        "colab": {
          "base_uri": "https://localhost:8080/"
        },
        "id": "xjiJzCN7F1v3",
        "outputId": "ae1d3f83-c50e-45a4-c815-7bd5b557488e"
      },
      "execution_count": 44,
      "outputs": [
        {
          "output_type": "execute_result",
          "data": {
            "text/plain": [
              "0.98"
            ]
          },
          "metadata": {},
          "execution_count": 44
        }
      ]
    },
    {
      "cell_type": "code",
      "source": [
        "# Testando outros valores de epsilon no ds teste\n",
        "\n",
        "ep_list = [1e-5, 1e-6, 1e-7, 1e-8, 1e-9]\n",
        "acc_list = []\n",
        "\n",
        "for i in range(len(ep_list)):\n",
        "  epsilon = ep_list[i]\n",
        "\n",
        "  detector = DetectorAnomalias(epsilon=epsilon)\n",
        "  detector.fit(Xtrain)\n",
        "  anomaly_test = []\n",
        "\n",
        "  for i in range(Xtest.shape[0]):\n",
        "    anomaly_test.append(detector.isAnomaly(Xtest[i]))\n",
        "\n",
        "  acc_list.append(f\"Epsilon: {epsilon}, Accuracy Score: {accuracy_score(ytest, anomaly_test).round(2)}, R2 Score: {r2_score(ytest, anomaly_test).round(2)}\")\n",
        "\n",
        "acc_list"
      ],
      "metadata": {
        "colab": {
          "base_uri": "https://localhost:8080/"
        },
        "id": "bvUzOaKrGUkG",
        "outputId": "b34aa62f-439d-43e3-aeb9-b114fef4b158"
      },
      "execution_count": 26,
      "outputs": [
        {
          "output_type": "execute_result",
          "data": {
            "text/plain": [
              "['Epsilon: 1e-05, Accuracy Score: 0.33, R2 Score: -37.53',\n",
              " 'Epsilon: 1e-06, Accuracy Score: 0.81, R2 Score: -9.9',\n",
              " 'Epsilon: 1e-07, Accuracy Score: 0.96, R2 Score: -1.22',\n",
              " 'Epsilon: 1e-08, Accuracy Score: 1.0, R2 Score: 0.96',\n",
              " 'Epsilon: 1e-09, Accuracy Score: 0.99, R2 Score: 0.17']"
            ]
          },
          "metadata": {},
          "execution_count": 26
        }
      ]
    },
    {
      "cell_type": "code",
      "source": [
        "# Validando outros valores de epsilon no ds validacao\n",
        "\n",
        "ep_list = [1e-5, 1e-6, 1e-7, 1e-8, 1e-9]\n",
        "acc_list = []\n",
        "\n",
        "for i in range(len(ep_list)):\n",
        "  epsilon = ep_list[i]\n",
        "\n",
        "  detector = DetectorAnomalias(epsilon=epsilon)\n",
        "  detector.fit(Xtrain)\n",
        "  anomaly_test = []\n",
        "\n",
        "  \n",
        "\n",
        "  for i in range(Xval.shape[0]):\n",
        "    anomaly_test.append(detector.isAnomaly(Xval[i]))\n",
        "\n",
        "  acc_list.append(f\"Epsilon: {epsilon}, Accuracy Score: {accuracy_score(yval, anomaly_test).round(2)}, R2 Score: {r2_score(yval, anomaly_test).round(2)}\")\n",
        "\n",
        "acc_list"
      ],
      "metadata": {
        "colab": {
          "base_uri": "https://localhost:8080/"
        },
        "id": "R5Tdm5NuIzfB",
        "outputId": "6c452e2f-42b2-49fa-8a56-7f6f6eac16bf"
      },
      "execution_count": 27,
      "outputs": [
        {
          "output_type": "execute_result",
          "data": {
            "text/plain": [
              "['Epsilon: 1e-05, Accuracy Score: 0.33, R2 Score: -37.83',\n",
              " 'Epsilon: 1e-06, Accuracy Score: 0.82, R2 Score: -9.29',\n",
              " 'Epsilon: 1e-07, Accuracy Score: 0.98, R2 Score: -0.32',\n",
              " 'Epsilon: 1e-08, Accuracy Score: 1.0, R2 Score: 0.96',\n",
              " 'Epsilon: 1e-09, Accuracy Score: 0.99, R2 Score: 0.21']"
            ]
          },
          "metadata": {},
          "execution_count": 27
        }
      ]
    },
    {
      "cell_type": "code",
      "source": [
        "# Definindo o melhor valor de epsilon segundo a validação com outros valores\n",
        "\n",
        "detector = DetectorAnomalias(epsilon=1e-7)\n",
        "\n",
        "detector.fit(Xtrain)\n",
        "detector.isAnomaly(Xtest[0,:]), ytest[0]\n",
        "\n",
        "anomaly_test = []\n",
        "\n",
        "for i in range(Xtest.shape[0]):\n",
        "  anomaly_test.append(detector.isAnomaly(Xtest[i]))\n",
        "\n",
        "accuracy_score(ytest, anomaly_test).round(3)"
      ],
      "metadata": {
        "colab": {
          "base_uri": "https://localhost:8080/"
        },
        "id": "B5t7N275T7BT",
        "outputId": "f41345d3-351a-46bb-8ca7-126ee9a286ef"
      },
      "execution_count": 48,
      "outputs": [
        {
          "output_type": "execute_result",
          "data": {
            "text/plain": [
              "0.962"
            ]
          },
          "metadata": {},
          "execution_count": 48
        }
      ]
    },
    {
      "cell_type": "code",
      "source": [
        "# Realizando uma validação cruzada com valores aleatórios \n",
        "\n",
        "list_true = []\n",
        "list_pred = []\n",
        "\n",
        "for i in range(0, 200):\n",
        "  n_alea = np.random.randint(0, Xval.shape[0])\n",
        "\n",
        "  ytrue = ytest[n_alea]\n",
        "  ypred = detector.isAnomaly(Xtest[n_alea, :])\n",
        "\n",
        "  print(n_alea, ytrue, ypred)\n",
        "\n",
        "  list_true.append(ytrue)\n",
        "  list_pred.append(ypred)\n",
        "\n",
        "print()\n",
        "print(f'{accuracy_score(list_true, list_pred).round(3)}')"
      ],
      "metadata": {
        "colab": {
          "base_uri": "https://localhost:8080/"
        },
        "id": "8KxmZcXqWs7s",
        "outputId": "24acee67-e670-4273-bb54-a5e600e29208"
      },
      "execution_count": 49,
      "outputs": [
        {
          "output_type": "stream",
          "name": "stdout",
          "text": [
            "572 0.0 0\n",
            "804 0.0 0\n",
            "828 0.0 0\n",
            "1448 0.0 1\n",
            "24 0.0 0\n",
            "918 0.0 0\n",
            "1344 0.0 0\n",
            "427 0.0 0\n",
            "1161 0.0 0\n",
            "793 0.0 0\n",
            "1340 0.0 0\n",
            "822 0.0 0\n",
            "239 0.0 0\n",
            "763 0.0 0\n",
            "53 0.0 0\n",
            "1085 0.0 0\n",
            "955 0.0 0\n",
            "1044 0.0 0\n",
            "1152 0.0 0\n",
            "3 0.0 0\n",
            "1211 0.0 1\n",
            "1264 0.0 0\n",
            "1053 0.0 0\n",
            "1487 0.0 0\n",
            "109 0.0 0\n",
            "205 0.0 0\n",
            "1202 0.0 0\n",
            "193 0.0 0\n",
            "617 0.0 0\n",
            "1287 0.0 1\n",
            "999 0.0 0\n",
            "405 0.0 0\n",
            "891 0.0 0\n",
            "1224 0.0 0\n",
            "57 0.0 0\n",
            "373 0.0 0\n",
            "1367 0.0 0\n",
            "1173 0.0 0\n",
            "877 0.0 1\n",
            "1324 0.0 0\n",
            "1419 0.0 0\n",
            "735 0.0 0\n",
            "300 0.0 0\n",
            "749 0.0 0\n",
            "1387 0.0 0\n",
            "1429 0.0 0\n",
            "1403 0.0 0\n",
            "1122 0.0 0\n",
            "174 0.0 0\n",
            "420 0.0 0\n",
            "781 0.0 0\n",
            "1220 0.0 0\n",
            "1471 0.0 0\n",
            "480 0.0 0\n",
            "247 0.0 0\n",
            "645 0.0 0\n",
            "883 0.0 0\n",
            "406 0.0 0\n",
            "165 0.0 0\n",
            "1447 0.0 0\n",
            "181 0.0 0\n",
            "931 0.0 0\n",
            "40 0.0 0\n",
            "520 0.0 0\n",
            "1215 0.0 0\n",
            "1357 0.0 0\n",
            "731 0.0 0\n",
            "560 0.0 0\n",
            "817 0.0 0\n",
            "865 0.0 0\n",
            "58 0.0 0\n",
            "1229 0.0 0\n",
            "475 0.0 0\n",
            "332 0.0 0\n",
            "1360 0.0 0\n",
            "959 0.0 0\n",
            "388 0.0 0\n",
            "519 0.0 0\n",
            "456 0.0 0\n",
            "920 0.0 0\n",
            "912 0.0 0\n",
            "1333 0.0 0\n",
            "511 0.0 0\n",
            "1516 1.0 1\n",
            "173 0.0 0\n",
            "708 0.0 0\n",
            "498 0.0 0\n",
            "349 0.0 0\n",
            "373 0.0 0\n",
            "816 0.0 0\n",
            "758 0.0 0\n",
            "377 0.0 0\n",
            "583 0.0 0\n",
            "367 0.0 0\n",
            "914 0.0 0\n",
            "1233 0.0 0\n",
            "931 0.0 0\n",
            "68 0.0 0\n",
            "256 0.0 0\n",
            "860 0.0 0\n",
            "486 0.0 0\n",
            "236 0.0 0\n",
            "1049 0.0 0\n",
            "28 0.0 0\n",
            "1384 0.0 0\n",
            "1041 0.0 0\n",
            "1036 0.0 0\n",
            "1211 0.0 1\n",
            "543 0.0 0\n",
            "190 0.0 0\n",
            "915 0.0 0\n",
            "43 0.0 0\n",
            "363 0.0 0\n",
            "1198 0.0 0\n",
            "274 0.0 0\n",
            "145 0.0 0\n",
            "1071 0.0 0\n",
            "914 0.0 0\n",
            "506 0.0 0\n",
            "491 0.0 1\n",
            "1067 0.0 0\n",
            "1516 1.0 1\n",
            "1102 0.0 0\n",
            "380 0.0 0\n",
            "856 0.0 0\n",
            "40 0.0 0\n",
            "564 0.0 0\n",
            "934 0.0 0\n",
            "635 0.0 0\n",
            "1082 0.0 0\n",
            "1047 0.0 0\n",
            "635 0.0 0\n",
            "413 0.0 0\n",
            "258 0.0 0\n",
            "51 0.0 0\n",
            "803 0.0 0\n",
            "616 0.0 0\n",
            "1409 0.0 0\n",
            "731 0.0 0\n",
            "281 0.0 0\n",
            "1146 0.0 0\n",
            "54 0.0 0\n",
            "1348 0.0 0\n",
            "479 0.0 0\n",
            "993 0.0 0\n",
            "1154 0.0 0\n",
            "1274 0.0 0\n",
            "3 0.0 0\n",
            "569 0.0 0\n",
            "22 0.0 0\n",
            "796 0.0 0\n",
            "230 0.0 0\n",
            "348 0.0 0\n",
            "939 0.0 0\n",
            "95 0.0 0\n",
            "1049 0.0 0\n",
            "1093 0.0 0\n",
            "1304 0.0 0\n",
            "1296 0.0 0\n",
            "1047 0.0 0\n",
            "96 0.0 0\n",
            "1031 0.0 0\n",
            "1105 0.0 0\n",
            "472 0.0 0\n",
            "197 0.0 0\n",
            "82 0.0 0\n",
            "887 0.0 0\n",
            "423 0.0 0\n",
            "1494 0.0 0\n",
            "9 0.0 0\n",
            "988 0.0 0\n",
            "1432 0.0 0\n",
            "1487 0.0 0\n",
            "479 0.0 0\n",
            "16 0.0 0\n",
            "738 0.0 0\n",
            "809 0.0 0\n",
            "256 0.0 0\n",
            "434 0.0 0\n",
            "515 0.0 0\n",
            "1359 0.0 0\n",
            "1218 0.0 0\n",
            "945 0.0 0\n",
            "1171 0.0 0\n",
            "1402 0.0 0\n",
            "124 0.0 0\n",
            "1013 0.0 0\n",
            "1100 0.0 0\n",
            "1094 0.0 0\n",
            "294 0.0 0\n",
            "1188 0.0 0\n",
            "918 0.0 0\n",
            "234 0.0 0\n",
            "523 0.0 0\n",
            "524 0.0 0\n",
            "819 0.0 0\n",
            "1202 0.0 0\n",
            "691 0.0 1\n",
            "914 0.0 0\n",
            "1071 0.0 0\n",
            "\n",
            "0.965\n"
          ]
        }
      ]
    },
    {
      "cell_type": "markdown",
      "source": [
        "###Conclusão 1: \n",
        "\n",
        "Embasado nas análiases e testes acima, podemos considerar que o melhor valor de epsion para o problema citado é de 1e-7.\n",
        "\n",
        "Essa conclusão foi baseada nos resultados do score de acurácia, ou seja, precisão do algoritimo em classificar corretamente os dados.\n",
        "\n",
        "A precisão do algoritimo durante os testes foi de 96,2%, e de 96,5% durante a validação."
      ],
      "metadata": {
        "id": "pMqRxvjUS80L"
      }
    },
    {
      "cell_type": "markdown",
      "source": [
        "##Exercício 2: Aborde o problema num contexto de aprendizado supervisionado, ou seja, treine modelos de classificação binária com o objetivo de detectar anomalias.\n",
        "\n",
        "Compare os resultados entre as metodologias."
      ],
      "metadata": {
        "id": "uj-yNlHNRorp"
      }
    },
    {
      "cell_type": "code",
      "source": [
        "from sklearn.linear_model import LogisticRegression\n",
        "from sklearn.neighbors import KNeighborsClassifier\n",
        "from sklearn.tree import DecisionTreeClassifier\n",
        "from sklearn.ensemble import VotingClassifier\n",
        "\n",
        "#instanciando os modelos\n",
        "logreg = LogisticRegression()\n",
        "knn = KNeighborsClassifier()\n",
        "dt = DecisionTreeClassifier()\n",
        "\n",
        "estimators = [('lr', logreg), ('knn', knn), ('dt', dt)]\n",
        "\n",
        "voting = VotingClassifier(estimators = estimators)\n",
        "voting.fit(Xtest, ytest)\n",
        "\n"
      ],
      "metadata": {
        "id": "RRwNDEk0OSFo",
        "colab": {
          "base_uri": "https://localhost:8080/"
        },
        "outputId": "6c4ab1c5-6a41-4fa5-b6e9-11d35991fedb"
      },
      "execution_count": 35,
      "outputs": [
        {
          "output_type": "execute_result",
          "data": {
            "text/plain": [
              "VotingClassifier(estimators=[('lr', LogisticRegression()),\n",
              "                             ('knn', KNeighborsClassifier()),\n",
              "                             ('dt', DecisionTreeClassifier())])"
            ]
          },
          "metadata": {},
          "execution_count": 35
        }
      ]
    },
    {
      "cell_type": "code",
      "execution_count": 36,
      "metadata": {
        "id": "GTjXVPZTUZyi",
        "outputId": "0b4d5662-25e6-459f-fd8a-f2e1d2041228",
        "colab": {
          "base_uri": "https://localhost:8080/"
        }
      },
      "outputs": [
        {
          "output_type": "execute_result",
          "data": {
            "text/plain": [
              "0.9830508474576272"
            ]
          },
          "metadata": {},
          "execution_count": 36
        }
      ],
      "source": [
        "accuracy_score(y_true = ytest, y_pred = voting.predict(Xtest))"
      ]
    },
    {
      "cell_type": "code",
      "source": [
        "list_true = []\n",
        "list_pred = []\n",
        "\n",
        "for i in range(0, 200):\n",
        "  n_alea = np.random.randint(0, Xtest.shape[0])\n",
        "\n",
        "  ytrue = ytest[n_alea]\n",
        "  ypred = voting.predict(Xtest[n_alea:n_alea+1, :])\n",
        "\n",
        "  print(n_alea, ytrue, ypred)\n",
        "  \n",
        "  list_true.append(ytrue)\n",
        "  list_pred.append(ypred)\n",
        "\n",
        "accuracy_score(list_true, list_pred)"
      ],
      "metadata": {
        "colab": {
          "base_uri": "https://localhost:8080/"
        },
        "id": "ODa67YlgUkqD",
        "outputId": "6192db3d-88da-478c-c7c7-02c5b7f7da0b"
      },
      "execution_count": 37,
      "outputs": [
        {
          "output_type": "stream",
          "name": "stdout",
          "text": [
            "648 0.0 [0.]\n",
            "448 0.0 [0.]\n",
            "815 0.0 [0.]\n",
            "1148 0.0 [0.]\n",
            "1217 0.0 [0.]\n",
            "74 0.0 [0.]\n",
            "555 0.0 [0.]\n",
            "857 0.0 [0.]\n",
            "276 0.0 [0.]\n",
            "172 0.0 [0.]\n",
            "371 0.0 [0.]\n",
            "748 0.0 [0.]\n",
            "230 0.0 [0.]\n",
            "1065 0.0 [0.]\n",
            "246 0.0 [0.]\n",
            "30 0.0 [0.]\n",
            "366 0.0 [0.]\n",
            "1316 0.0 [0.]\n",
            "634 0.0 [0.]\n",
            "1456 0.0 [0.]\n",
            "379 0.0 [0.]\n",
            "39 0.0 [0.]\n",
            "706 0.0 [0.]\n",
            "663 0.0 [0.]\n",
            "968 0.0 [0.]\n",
            "432 0.0 [0.]\n",
            "656 0.0 [0.]\n",
            "194 0.0 [0.]\n",
            "344 0.0 [0.]\n",
            "343 0.0 [0.]\n",
            "1088 0.0 [0.]\n",
            "459 0.0 [0.]\n",
            "935 0.0 [0.]\n",
            "391 0.0 [0.]\n",
            "1032 0.0 [0.]\n",
            "1368 0.0 [0.]\n",
            "1257 0.0 [0.]\n",
            "601 0.0 [0.]\n",
            "848 0.0 [0.]\n",
            "859 0.0 [0.]\n",
            "385 0.0 [0.]\n",
            "149 0.0 [0.]\n",
            "1522 1.0 [0.]\n",
            "147 0.0 [0.]\n",
            "819 0.0 [0.]\n",
            "515 0.0 [0.]\n",
            "426 0.0 [0.]\n",
            "379 0.0 [0.]\n",
            "1029 0.0 [0.]\n",
            "565 0.0 [0.]\n",
            "338 0.0 [0.]\n",
            "260 0.0 [0.]\n",
            "1047 0.0 [0.]\n",
            "1115 0.0 [0.]\n",
            "816 0.0 [0.]\n",
            "581 0.0 [0.]\n",
            "1384 0.0 [0.]\n",
            "914 0.0 [0.]\n",
            "730 0.0 [0.]\n",
            "1430 0.0 [0.]\n",
            "568 0.0 [0.]\n",
            "78 0.0 [0.]\n",
            "744 0.0 [0.]\n",
            "165 0.0 [0.]\n",
            "174 0.0 [0.]\n",
            "377 0.0 [0.]\n",
            "10 0.0 [0.]\n",
            "693 0.0 [0.]\n",
            "447 0.0 [0.]\n",
            "875 0.0 [0.]\n",
            "19 0.0 [0.]\n",
            "279 0.0 [0.]\n",
            "505 0.0 [0.]\n",
            "87 0.0 [0.]\n",
            "681 0.0 [0.]\n",
            "1397 0.0 [0.]\n",
            "664 0.0 [0.]\n",
            "250 0.0 [0.]\n",
            "655 0.0 [0.]\n",
            "1461 0.0 [0.]\n",
            "1251 0.0 [0.]\n",
            "1109 0.0 [0.]\n",
            "645 0.0 [0.]\n",
            "955 0.0 [0.]\n",
            "42 0.0 [0.]\n",
            "426 0.0 [0.]\n",
            "778 0.0 [0.]\n",
            "1073 0.0 [0.]\n",
            "1069 0.0 [0.]\n",
            "1039 0.0 [0.]\n",
            "1472 0.0 [0.]\n",
            "988 0.0 [0.]\n",
            "393 0.0 [0.]\n",
            "711 0.0 [0.]\n",
            "349 0.0 [0.]\n",
            "410 0.0 [0.]\n",
            "127 0.0 [0.]\n",
            "408 0.0 [0.]\n",
            "1032 0.0 [0.]\n",
            "189 0.0 [0.]\n",
            "170 0.0 [0.]\n",
            "488 0.0 [0.]\n",
            "815 0.0 [0.]\n",
            "561 0.0 [0.]\n",
            "225 0.0 [0.]\n",
            "1133 0.0 [0.]\n",
            "1307 0.0 [0.]\n",
            "885 0.0 [0.]\n",
            "1048 0.0 [0.]\n",
            "856 0.0 [0.]\n",
            "1447 0.0 [0.]\n",
            "603 0.0 [0.]\n",
            "1199 0.0 [0.]\n",
            "997 0.0 [0.]\n",
            "486 0.0 [0.]\n",
            "1484 0.0 [0.]\n",
            "984 0.0 [0.]\n",
            "815 0.0 [0.]\n",
            "1287 0.0 [0.]\n",
            "1412 0.0 [0.]\n",
            "120 0.0 [0.]\n",
            "132 0.0 [0.]\n",
            "122 0.0 [0.]\n",
            "667 0.0 [0.]\n",
            "876 0.0 [0.]\n",
            "955 0.0 [0.]\n",
            "811 0.0 [0.]\n",
            "444 0.0 [0.]\n",
            "1483 0.0 [0.]\n",
            "152 0.0 [0.]\n",
            "56 0.0 [0.]\n",
            "34 0.0 [0.]\n",
            "350 0.0 [0.]\n",
            "808 0.0 [0.]\n",
            "770 0.0 [0.]\n",
            "644 0.0 [0.]\n",
            "604 0.0 [0.]\n",
            "1369 0.0 [0.]\n",
            "968 0.0 [0.]\n",
            "11 0.0 [0.]\n",
            "12 0.0 [0.]\n",
            "1408 0.0 [0.]\n",
            "893 0.0 [0.]\n",
            "1107 0.0 [0.]\n",
            "615 0.0 [0.]\n",
            "479 0.0 [0.]\n",
            "915 0.0 [0.]\n",
            "228 0.0 [0.]\n",
            "24 0.0 [0.]\n",
            "1331 0.0 [0.]\n",
            "1494 0.0 [0.]\n",
            "699 0.0 [0.]\n",
            "262 0.0 [0.]\n",
            "929 0.0 [0.]\n",
            "428 0.0 [0.]\n",
            "36 0.0 [0.]\n",
            "496 0.0 [0.]\n",
            "1050 0.0 [0.]\n",
            "631 0.0 [0.]\n",
            "988 0.0 [0.]\n",
            "239 0.0 [0.]\n",
            "1359 0.0 [0.]\n",
            "35 0.0 [0.]\n",
            "843 0.0 [0.]\n",
            "16 0.0 [0.]\n",
            "953 0.0 [0.]\n",
            "912 0.0 [0.]\n",
            "1253 0.0 [0.]\n",
            "1483 0.0 [0.]\n",
            "273 0.0 [0.]\n",
            "1294 0.0 [0.]\n",
            "346 0.0 [0.]\n",
            "1015 0.0 [0.]\n",
            "1273 0.0 [0.]\n",
            "450 0.0 [0.]\n",
            "658 0.0 [0.]\n",
            "1155 0.0 [0.]\n",
            "911 0.0 [0.]\n",
            "641 0.0 [0.]\n",
            "82 0.0 [0.]\n",
            "1256 0.0 [0.]\n",
            "1415 0.0 [0.]\n",
            "486 0.0 [0.]\n",
            "442 0.0 [0.]\n",
            "667 0.0 [0.]\n",
            "1225 0.0 [0.]\n",
            "756 0.0 [0.]\n",
            "749 0.0 [0.]\n",
            "740 0.0 [0.]\n",
            "1193 0.0 [0.]\n",
            "745 0.0 [0.]\n",
            "1329 0.0 [0.]\n",
            "519 0.0 [0.]\n",
            "848 0.0 [0.]\n",
            "117 0.0 [0.]\n",
            "1259 0.0 [0.]\n",
            "502 0.0 [0.]\n",
            "1013 0.0 [0.]\n",
            "245 0.0 [0.]\n",
            "820 0.0 [0.]\n"
          ]
        },
        {
          "output_type": "execute_result",
          "data": {
            "text/plain": [
              "0.995"
            ]
          },
          "metadata": {},
          "execution_count": 37
        }
      ]
    },
    {
      "cell_type": "code",
      "source": [
        "voting.predict(Xtest[1:2, :])[0], ytest[1]"
      ],
      "metadata": {
        "colab": {
          "base_uri": "https://localhost:8080/"
        },
        "id": "skz8rAzeXlVQ",
        "outputId": "9e5c8c13-c8d7-4689-b944-c3e4b0ef37cd"
      },
      "execution_count": 38,
      "outputs": [
        {
          "output_type": "execute_result",
          "data": {
            "text/plain": [
              "(0.0, 0.0)"
            ]
          },
          "metadata": {},
          "execution_count": 38
        }
      ]
    },
    {
      "cell_type": "code",
      "source": [
        "list_true = []\n",
        "list_pred = []\n",
        "\n",
        "for i in range(0, 20):\n",
        "  n_alea = np.random.randint(0, Xval.shape[0])\n",
        "\n",
        "  ytrue = yval[n_alea]\n",
        "  ypred = voting.predict(Xval[n_alea:n_alea+1, :])\n",
        "\n",
        "  print(n_alea, ytrue, ypred)\n",
        "  \n",
        "  list_true.append(ytrue)\n",
        "  list_pred.append(ypred)\n",
        "\n",
        "accuracy_score(list_true, list_pred)"
      ],
      "metadata": {
        "colab": {
          "base_uri": "https://localhost:8080/"
        },
        "id": "rMmGc88JYKmj",
        "outputId": "8b1e14a8-c6e1-48b7-b7bb-61caed424f19"
      },
      "execution_count": 42,
      "outputs": [
        {
          "output_type": "stream",
          "name": "stdout",
          "text": [
            "1150 0.0 [0.]\n",
            "650 0.0 [0.]\n",
            "130 0.0 [0.]\n",
            "1413 0.0 [0.]\n",
            "187 0.0 [0.]\n",
            "441 0.0 [0.]\n",
            "95 0.0 [0.]\n",
            "425 0.0 [0.]\n",
            "1145 0.0 [0.]\n",
            "261 0.0 [0.]\n",
            "22 0.0 [0.]\n",
            "273 0.0 [0.]\n",
            "752 0.0 [0.]\n",
            "538 0.0 [0.]\n",
            "247 0.0 [0.]\n",
            "166 0.0 [0.]\n",
            "141 0.0 [0.]\n",
            "529 0.0 [0.]\n",
            "264 0.0 [0.]\n",
            "1002 0.0 [0.]\n"
          ]
        },
        {
          "output_type": "execute_result",
          "data": {
            "text/plain": [
              "1.0"
            ]
          },
          "metadata": {},
          "execution_count": 42
        }
      ]
    },
    {
      "cell_type": "code",
      "source": [
        "from sklearn.model_selection import cross_val_score\n",
        "\n",
        "print(f\"Cross val Accuracy em teste: {cross_val_score(voting, Xtest, ytest, scoring='accuracy', cv=5).mean().round(3)}%\")\n",
        "print(f\"Cross val Accuracy em validacao: {cross_val_score(voting, Xval, yval, scoring='accuracy', cv=5).mean().round(3)}%\")"
      ],
      "metadata": {
        "colab": {
          "base_uri": "https://localhost:8080/"
        },
        "id": "c58GAUyGZXQH",
        "outputId": "c5a292d5-8dd5-4ae0-b72d-d98a0646acfd"
      },
      "execution_count": 43,
      "outputs": [
        {
          "output_type": "stream",
          "name": "stdout",
          "text": [
            "Cross val Accuracy em teste: 0.982%\n",
            "Cross val Accuracy em validacao: 0.982%\n"
          ]
        }
      ]
    },
    {
      "cell_type": "markdown",
      "source": [
        "###Conclusão 2:\n",
        "\n",
        "O algoritmo de aprendizagem supervisonada apresentou maior performance em relação ao algoritmo de detecção de anomalias.\n",
        "\n",
        "Utilizando a mesma métrica de performance, no contexto supervisinado conseguimos uma acurária de 98,2% em testes, e de 99,5% como resultado da validação cruzada, tornando assim o melhor algoritmo para a previsão de anomalias neste contexto."
      ],
      "metadata": {
        "id": "gQN8tYl-tqNs"
      }
    }
  ],
  "metadata": {
    "kernelspec": {
      "display_name": "Python 3",
      "language": "python",
      "name": "python3"
    },
    "language_info": {
      "codemirror_mode": {
        "name": "ipython",
        "version": 3
      },
      "file_extension": ".py",
      "mimetype": "text/x-python",
      "name": "python",
      "nbconvert_exporter": "python",
      "pygments_lexer": "ipython3",
      "version": "3.7.4"
    },
    "colab": {
      "name": "14_Deteccao_Anomalias_exercicio .ipynb",
      "provenance": [],
      "collapsed_sections": [],
      "include_colab_link": true
    }
  },
  "nbformat": 4,
  "nbformat_minor": 0
}